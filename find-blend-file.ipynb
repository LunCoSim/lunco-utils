{
 "cells": [
  {
   "cell_type": "code",
   "execution_count": 37,
   "id": "48765bd0-845c-4688-be41-7c0667c85f3e",
   "metadata": {},
   "outputs": [],
   "source": [
    "import os, fnmatch\n",
    "import pandas as pd"
   ]
  },
  {
   "cell_type": "code",
   "execution_count": 27,
   "id": "b0809eee-e5bb-4910-b417-d8806e8de3df",
   "metadata": {},
   "outputs": [],
   "source": [
    "path = \"\"\n",
    "extenstion = \".blend\"\n",
    "pattern = \"*\" + extenstion"
   ]
  },
  {
   "cell_type": "code",
   "execution_count": 32,
   "id": "2bbeb4da-eb5d-485b-9cc8-31d1f1608747",
   "metadata": {},
   "outputs": [],
   "source": [
    "def find(pattern, path):\n",
    "    result = []\n",
    "    for root, dirs, files in os.walk(path):\n",
    "        for name in files:\n",
    "            if fnmatch.fnmatch(name, pattern):\n",
    "                result.append(os.path.join(root, name))\n",
    "    return result\n",
    "\n",
    "def process(file):\n",
    "    return {\n",
    "            \"path_raw\": file,\n",
    "            \"filename\": file.replace(extenstion,\"\").split(\"/\")[-1],\n",
    "            \"extension\": extenstion,\n",
    "            \"relative_path\": file.replace(path, \"\").replace(extenstion,\"\"),\n",
    "\n",
    "            \"path\": file.replace(path, \"\"),\n",
    "            \"size\": os.path.getsize(file)\n",
    "        }"
   ]
  },
  {
   "cell_type": "code",
   "execution_count": 28,
   "id": "fb697f6e-d7d7-43d3-9def-f6186c7502b8",
   "metadata": {},
   "outputs": [],
   "source": [
    "files = find(pattern, path)"
   ]
  },
  {
   "cell_type": "code",
   "execution_count": 36,
   "id": "ba7a033c-d048-4127-904e-43aff2268d97",
   "metadata": {},
   "outputs": [],
   "source": [
    "info = [process(file) for file in files]"
   ]
  },
  {
   "cell_type": "code",
   "execution_count": 43,
   "id": "9ea756a7-59fc-4512-a282-9815a7016b90",
   "metadata": {},
   "outputs": [],
   "source": [
    "df = pd.DataFrame(info)"
   ]
  },
  {
   "cell_type": "code",
   "execution_count": 44,
   "id": "960d2fc5-92ee-40a4-86f7-988788917682",
   "metadata": {},
   "outputs": [],
   "source": [
    "df.to_csv(\"blend_files.csv\")"
   ]
  }
 ],
 "metadata": {
  "kernelspec": {
   "display_name": "Python 3 (ipykernel)",
   "language": "python",
   "name": "python3"
  },
  "language_info": {
   "codemirror_mode": {
    "name": "ipython",
    "version": 3
   },
   "file_extension": ".py",
   "mimetype": "text/x-python",
   "name": "python",
   "nbconvert_exporter": "python",
   "pygments_lexer": "ipython3",
   "version": "3.9.12"
  }
 },
 "nbformat": 4,
 "nbformat_minor": 5
}
